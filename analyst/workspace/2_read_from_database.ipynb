{
 "cells": [
  {
   "cell_type": "markdown",
   "id": "5636fde2-c963-48b5-a883-a7d520a6084e",
   "metadata": {},
   "source": [
    "# Read Various Data Types from Database"
   ]
  },
  {
   "cell_type": "markdown",
   "id": "718aa167-569d-4212-99ab-b20b548c39f8",
   "metadata": {},
   "source": [
    "Again, make sure you connect to the isaac database"
   ]
  },
  {
   "cell_type": "code",
   "execution_count": null,
   "id": "eb0eefdc-75b9-4d5e-a9c2-d75ea94877b1",
   "metadata": {},
   "outputs": [],
   "source": [
    "from pyArango.connection import *\n",
    "\n",
    "# Connect to the database\n",
    "conn = Connection(arangoURL=\"http://iui_arangodb:8529\", username=\"root\", password=\"isaac\")\n",
    "\n",
    "# Open the isaac database / create it if it does not exist\n",
    "if not conn.hasDatabase(\"isaac\"):\n",
    "    print(\"There is no isaac database, did you load it?\")\n",
    "else:\n",
    "    db = conn[\"isaac\"]\n",
    "    print(\"Connected to database\")"
   ]
  },
  {
   "cell_type": "markdown",
   "id": "7dffefd4-3341-4a28-84a4-10eb437226a2",
   "metadata": {},
   "source": [
    "Check which collections are available to read from:"
   ]
  },
  {
   "cell_type": "code",
   "execution_count": null,
   "id": "d0fe8048-f2b9-46fc-a072-5bbe35222e0b",
   "metadata": {},
   "outputs": [],
   "source": []
  },
  {
   "cell_type": "markdown",
   "id": "cf2e9dd1-6fab-487b-92f3-6a7bdd74a276",
   "metadata": {},
   "source": [
    "Read 1D Data\n",
    "================\n",
    "\n",
    "To read signal data from the database you can filter by timestamp:"
   ]
  },
  {
   "cell_type": "code",
   "execution_count": null,
   "id": "fa0d4200-9c59-4b99-807a-f64f28dfc483",
   "metadata": {},
   "outputs": [],
   "source": [
    "import matplotlib.pyplot as plt\n",
    "\n",
    "\n",
    "# Edit timestamps timestamp\n",
    "start_time = 0\n",
    "end_time = 99999999999\n",
    "ros_topic = \"/gnc/ekf\"\n",
    "\n",
    "aql = \"\"\n",
    "if start_time is not None and end_time is not None:\n",
    "    ros_topic = ros_topic.replace(\"/\", \"_\")[1:]\n",
    "\n",
    "    aql = \"FOR doc IN \" + ros_topic + \"\\n\"\\\n",
    "        + \"\\tFILTER doc.message.header.stamp.secs >= \" + str(start_time) + \\\n",
    "              \" AND doc.message.header.stamp.secs <= \" + str(end_time) + \"\\n\" \\\n",
    "        + \"\\tRETURN doc.message\";\n",
    "\n",
    "result = list(db.AQLQuery(aql, rawResults = True))\n"
   ]
  },
  {
   "cell_type": "code",
   "execution_count": null,
   "id": "9288a825-64f6-4177-9f65-9bff1ea74210",
   "metadata": {},
   "outputs": [],
   "source": [
    "\n",
    "\n",
    "\n"
   ]
  },
  {
   "cell_type": "code",
   "execution_count": null,
   "id": "49afe196-726e-4f50-8e29-85eb1d9c76b3",
   "metadata": {},
   "outputs": [],
   "source": [
    "\n",
    "\n",
    "# Plot the robot's position during the time interval\n",
    "time = [msg.get(\"header\").get(\"stamp\").get(\"secs\") - result[0].get(\"header\").get(\"stamp\").get(\"secs\") for msg in result] \n",
    "pos_x = [msg.get(\"pose\").get(\"position\").get(\"x\") for msg in result]\n",
    "pos_y = [msg.get(\"pose\").get(\"position\").get(\"y\") for msg in result]\n",
    "pos_z = [msg.get(\"pose\").get(\"position\").get(\"z\") for msg in result]\n",
    "\n",
    "# plt.plot(time,pos_x)\n",
    "plt.plot(pos_y[:30000])\n",
    "# plt.plot(time,pos_z)"
   ]
  },
  {
   "cell_type": "markdown",
   "id": "1f9b86af-6887-4d36-9c99-d4f879648112",
   "metadata": {
    "tags": []
   },
   "source": [
    "Read 2D Data\n",
    "===========\n",
    "To read data like images:"
   ]
  },
  {
   "cell_type": "code",
   "execution_count": null,
   "id": "6a5766d7-9888-4f64-8dae-6bc1d21f0720",
   "metadata": {},
   "outputs": [],
   "source": [
    "\n",
    "\n",
    "# Edit timestamps timestamp\n",
    "start_time = 1616777590\n",
    "end_time = 1616777600\n",
    "ros_topic = \"/mgt/img_sampler/nav_cam/image_record\"\n",
    "\n",
    "\n",
    "aql = \"\"\n",
    "if start_time is not None and end_time is not None:\n",
    "    ros_topic = ros_topic.replace(\"/\", \"_\")[1:]\n",
    "\n",
    "    aql = \"FOR doc IN \" + ros_topic + \"\\n\"\\\n",
    "        + \"\\tFILTER doc.message.header.stamp.secs >= \" + str(start_time) + \\\n",
    "              \" AND doc.message.header.stamp.secs <= \" + str(end_time) + \"\\n\" \\\n",
    "        + \"\\tRETURN doc.message\";\n",
    "\n",
    "result = db.AQLQuery(aql, rawResults = True)\n"
   ]
  },
  {
   "cell_type": "code",
   "execution_count": null,
   "id": "e444acbd-da01-4751-be2d-8d44f9c3809f",
   "metadata": {},
   "outputs": [],
   "source": []
  },
  {
   "cell_type": "code",
   "execution_count": null,
   "id": "b505d558-fb56-45a0-a32a-45e1175b1f14",
   "metadata": {},
   "outputs": [],
   "source": [
    "# Convert image to ros message\n",
    "from sensor_msgs.msg import Image\n",
    "import genpy\n",
    "\n",
    "expect = Image()\n",
    "expect_str = result[0]\n",
    "genpy.message.fill_message_args(expect, expect_str)\n",
    "expect.data = bytes(expect.data)\n",
    "\n",
    "\n",
    "# View image\n",
    "import cv2\n",
    "import numpy as np\n",
    "from cv_bridge import CvBridge, CvBridgeError\n",
    "\n",
    "bridge = CvBridge()\n",
    "cv_image = bridge.imgmsg_to_cv2(expect, \"mono8\")"
   ]
  },
  {
   "cell_type": "code",
   "execution_count": null,
   "id": "3c5a278f-a3da-43d3-b926-7d66195f8810",
   "metadata": {},
   "outputs": [],
   "source": [
    "from matplotlib import pyplot as plt\n",
    "\n",
    "plt.imshow(cv_image, cmap='gray', vmin=0, vmax=255)\n",
    "plt.show()"
   ]
  },
  {
   "cell_type": "code",
   "execution_count": null,
   "id": "38daaa5b-cf01-48cd-b655-097bcc9e636c",
   "metadata": {},
   "outputs": [],
   "source": []
  }
 ],
 "metadata": {
  "kernelspec": {
   "display_name": "Python 3 (ipykernel)",
   "language": "python",
   "name": "python3"
  },
  "language_info": {
   "codemirror_mode": {
    "name": "ipython",
    "version": 3
   },
   "file_extension": ".py",
   "mimetype": "text/x-python",
   "name": "python",
   "nbconvert_exporter": "python",
   "pygments_lexer": "ipython3",
   "version": "3.8.10"
  }
 },
 "nbformat": 4,
 "nbformat_minor": 5
}
